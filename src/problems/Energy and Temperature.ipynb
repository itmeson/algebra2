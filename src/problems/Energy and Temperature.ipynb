{
 "metadata": {
  "name": ""
 },
 "nbformat": 3,
 "nbformat_minor": 0,
 "worksheets": [
  {
   "cells": [
    {
     "cell_type": "markdown",
     "metadata": {},
     "source": [
      "Energy and Temperature\n",
      "======================\n",
      "\n",
      "What is going on with the skater?  Isn't the kinetic energy changing as the skater moves back and forth from one side to the other?\n",
      "\n",
      "What is going on with the springs?\n"
     ]
    },
    {
     "cell_type": "code",
     "collapsed": false,
     "input": [
      "def fib(n):\n",
      "    if n == 1 or n == 2:\n",
      "        return 1\n",
      "    else:\n",
      "        return fib(n-1) + fib(n-2)\n",
      "\n",
      "for i in range(1,10):\n",
      "    print i, fib(i)"
     ],
     "language": "python",
     "metadata": {},
     "outputs": [
      {
       "output_type": "stream",
       "stream": "stdout",
       "text": [
        "1 1\n",
        "2 1\n",
        "3 2\n",
        "4 3\n",
        "5 5\n",
        "6 8\n",
        "7 13\n",
        "8 21\n",
        "9 34\n"
       ]
      }
     ],
     "prompt_number": 2
    },
    {
     "cell_type": "code",
     "collapsed": false,
     "input": [],
     "language": "python",
     "metadata": {},
     "outputs": []
    }
   ],
   "metadata": {}
  }
 ]
}